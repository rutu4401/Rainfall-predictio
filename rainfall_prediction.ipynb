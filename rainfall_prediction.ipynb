{
  "nbformat": 4,
  "nbformat_minor": 0,
  "metadata": {
    "colab": {
      "provenance": [],
      "gpuType": "T4"
    },
    "kernelspec": {
      "name": "python3",
      "display_name": "Python 3"
    },
    "language_info": {
      "name": "python"
    },
    "accelerator": "GPU"
  },
  "cells": [
    {
      "cell_type": "code",
      "execution_count": 1,
      "metadata": {
        "id": "x0TKnSwefwJa",
        "colab": {
          "base_uri": "https://localhost:8080/"
        },
        "outputId": "6a4ef806-30a4-4707-9074-c85118772dc8"
      },
      "outputs": [
        {
          "output_type": "stream",
          "name": "stdout",
          "text": [
            "Mounted at /content/drive\n"
          ]
        }
      ],
      "source": [
        "from google.colab import drive\n",
        "drive.mount('/content/drive')\n"
      ]
    },
    {
      "cell_type": "code",
      "source": [
        "import pandas as pd\n",
        "from sklearn.ensemble import RandomForestRegressor\n",
        "from sklearn.model_selection import train_test_split\n",
        "from sklearn.preprocessing import LabelEncoder\n",
        "from sklearn.multioutput import MultiOutputRegressor\n",
        "from sklearn.metrics import mean_absolute_error, r2_score\n",
        "import joblib\n",
        "\n",
        "# Load dataset\n",
        "df = pd.read_csv(\"/content/drive/MyDrive/Rainfall_Data_2017_2023.csv\")\n",
        "\n",
        "# Drop missing data\n",
        "df.dropna(subset=['State/UT', 'District', 'Jan', 'Feb', 'Mar', 'Apr', 'May', 'Jun',\n",
        "                  'Jul', 'Aug', 'Sep', 'Oct', 'Nov', 'Dec'], inplace=True)\n",
        "\n",
        "# Filter for training data (before 2025)\n",
        "df = df[df['Year'] < 2025]\n",
        "\n",
        "# Encode categorical inputs\n",
        "le_state = LabelEncoder()\n",
        "le_district = LabelEncoder()\n",
        "df['State/UT'] = le_state.fit_transform(df['State/UT'])\n",
        "df['District'] = le_district.fit_transform(df['District'])\n",
        "\n",
        "# Features and targets\n",
        "X = df[['State/UT', 'District']]\n",
        "month_cols = ['Jan', 'Feb', 'Mar', 'Apr', 'May', 'Jun',\n",
        "              'Jul', 'Aug', 'Sep', 'Oct', 'Nov', 'Dec']\n",
        "y = df[month_cols]\n",
        "\n",
        "# Train/test split\n",
        "X_train, X_test, y_train, y_test = train_test_split(X, y, test_size=0.2, random_state=42)\n",
        "\n",
        "# Multi-output regression\n",
        "model = MultiOutputRegressor(RandomForestRegressor(n_estimators=100, random_state=42))\n",
        "model.fit(X_train, y_train)\n",
        "\n",
        "# Predict\n",
        "y_pred = model.predict(X_test)\n",
        "\n",
        "# Accuracy: R² and MAE per month\n",
        "print(\"\\nMonthly Accuracy Metrics:\")\n",
        "for i, month in enumerate(month_cols):\n",
        "    r2 = r2_score(y_test.iloc[:, i], y_pred[:, i])\n",
        "    mae = mean_absolute_error(y_test.iloc[:, i], y_pred[:, i])\n",
        "    print(f\"{month}: R² = {r2:.4f}, MAE = {mae:.2f} mm\")\n",
        "\n",
        "# Overall scores\n",
        "overall_r2 = r2_score(y_test, y_pred, multioutput='uniform_average')\n",
        "overall_mae = mean_absolute_error(y_test, y_pred)\n",
        "print(f\"\\nOverall R² Score : {overall_r2:.4f}\")\n",
        "print(f\"Overall MAE      : {overall_mae:.2f} mm\")\n",
        "\n",
        "# Save model + encoders\n",
        "joblib.dump(model, \"rainfall_monthly_model.pkl\")\n",
        "joblib.dump(le_state, \"state_encoder.pkl\")\n",
        "joblib.dump(le_district, \"district_encoder.pkl\")\n"
      ],
      "metadata": {
        "colab": {
          "base_uri": "https://localhost:8080/"
        },
        "id": "U9CNHJF5UjZa",
        "outputId": "3b32df19-c13c-489b-d0b9-5878a41d2984"
      },
      "execution_count": 2,
      "outputs": [
        {
          "output_type": "stream",
          "name": "stdout",
          "text": [
            "\n",
            "Monthly Accuracy Metrics:\n",
            "Jan: R² = 0.9498, MAE = 10.84 mm\n",
            "Feb: R² = 0.9536, MAE = 10.55 mm\n",
            "Mar: R² = 0.9522, MAE = 10.72 mm\n",
            "Apr: R² = 0.9547, MAE = 10.93 mm\n",
            "May: R² = 0.9518, MAE = 11.00 mm\n",
            "Jun: R² = 0.9501, MAE = 10.88 mm\n",
            "Jul: R² = 0.9555, MAE = 10.43 mm\n",
            "Aug: R² = 0.9560, MAE = 10.36 mm\n",
            "Sep: R² = 0.9541, MAE = 10.76 mm\n",
            "Oct: R² = 0.9515, MAE = 11.04 mm\n",
            "Nov: R² = 0.9527, MAE = 10.73 mm\n",
            "Dec: R² = 0.9504, MAE = 10.87 mm\n",
            "\n",
            "Overall R² Score : 0.9527\n",
            "Overall MAE      : 10.76 mm\n"
          ]
        },
        {
          "output_type": "execute_result",
          "data": {
            "text/plain": [
              "['district_encoder.pkl']"
            ]
          },
          "metadata": {},
          "execution_count": 2
        }
      ]
    },
    {
      "cell_type": "code",
      "source": [
        "# Overall scores\n",
        "overall_r2 = r2_score(y_test, y_pred, multioutput='uniform_average')\n",
        "overall_mae = mean_absolute_error(y_test, y_pred)\n",
        "\n",
        "print(f\"\\nOverall Accuracy Metrics:\")\n",
        "print(f\"R² Score : {overall_r2:.4f}\")\n",
        "print(f\"MAE      : {overall_mae:.2f} mm\")\n"
      ],
      "metadata": {
        "colab": {
          "base_uri": "https://localhost:8080/"
        },
        "id": "ao7u2V8WbV7B",
        "outputId": "a0643188-b4df-412e-ca5d-44ab09c2f7bf"
      },
      "execution_count": 3,
      "outputs": [
        {
          "output_type": "stream",
          "name": "stdout",
          "text": [
            "\n",
            "Overall Accuracy Metrics:\n",
            "R² Score : 0.9527\n",
            "MAE      : 10.76 mm\n"
          ]
        }
      ]
    },
    {
      "cell_type": "code",
      "source": [
        "import joblib\n",
        "import numpy as np\n",
        "\n",
        "# Load the trained model and encoders\n",
        "model = joblib.load(\"rainfall_monthly_model.pkl\")\n",
        "le_state = joblib.load(\"state_encoder.pkl\")\n",
        "le_district = joblib.load(\"district_encoder.pkl\")\n",
        "\n",
        "# Input: State and District name (as seen in training data)\n",
        "input_state = \"MAHARASHTRA\"     # 👈 change as needed\n",
        "input_district = \"Nagpur\"  # 👈 change as needed\n",
        "\n",
        "# Encode inputs\n",
        "try:\n",
        "    state_encoded = le_state.transform([input_state])[0]\n",
        "    district_encoded = le_district.transform([input_district])[0]\n",
        "\n",
        "    # Prepare input for prediction\n",
        "    import pandas as pd\n",
        "    input_features = pd.DataFrame([[state_encoded, district_encoded]], columns=['State/UT', 'District'])\n",
        "\n",
        "\n",
        "    # Predict rainfall for each month\n",
        "    prediction = model.predict(input_features)[0]\n",
        "\n",
        "    # Month labels\n",
        "    months = ['Jan', 'Feb', 'Mar', 'Apr', 'May', 'Jun',\n",
        "              'Jul', 'Aug', 'Sep', 'Oct', 'Nov', 'Dec']\n",
        "\n",
        "    # Print predictions\n",
        "    print(f\"\\n🌧️ Predicted Rainfall for {input_district}, {input_state} (2025–2026):\")\n",
        "    for month, value in zip(months, prediction):\n",
        "        print(f\"{month}: {value:.2f} mm\")\n",
        "\n",
        "except ValueError as e:\n",
        "    print(\"Error:\", e)\n",
        "    print(\"Make sure the state and district names match the training data.\")\n"
      ],
      "metadata": {
        "colab": {
          "base_uri": "https://localhost:8080/"
        },
        "id": "Detd5iSFcDzB",
        "outputId": "6ca54b4d-4c22-48c6-fd53-a5f8f3728b51"
      },
      "execution_count": 7,
      "outputs": [
        {
          "output_type": "stream",
          "name": "stdout",
          "text": [
            "\n",
            "🌧️ Predicted Rainfall for Nagpur, MAHARASHTRA (2025–2026):\n",
            "Jan: 249.38 mm\n",
            "Feb: 75.52 mm\n",
            "Mar: 76.01 mm\n",
            "Apr: 158.07 mm\n",
            "May: 199.64 mm\n",
            "Jun: 234.06 mm\n",
            "Jul: 102.42 mm\n",
            "Aug: 146.30 mm\n",
            "Sep: 124.13 mm\n",
            "Oct: 115.27 mm\n",
            "Nov: 118.01 mm\n",
            "Dec: 189.34 mm\n"
          ]
        }
      ]
    },
    {
      "cell_type": "code",
      "source": [
        "import pandas as pd\n",
        "import seaborn as sns\n",
        "import matplotlib.pyplot as plt\n",
        "from sklearn.metrics import mean_absolute_error\n",
        "\n",
        "# Calculate MAE scores\n",
        "mae_scores = [mean_absolute_error(y_test.iloc[:, i], y_pred[:, i]) for i in range(len(month_cols))]\n",
        "mae_df = pd.DataFrame({'Month': month_cols, 'MAE': mae_scores})\n",
        "\n",
        "# Plot\n",
        "plt.figure(figsize=(10, 5))\n",
        "sns.barplot(data=mae_df, x='Month', y='MAE', hue='Month', palette='Reds_d', legend=False)\n",
        "plt.title(\"Mean Absolute Error (MAE) by Month\")\n",
        "plt.tight_layout()\n",
        "plt.show()\n"
      ],
      "metadata": {
        "colab": {
          "base_uri": "https://localhost:8080/",
          "height": 501
        },
        "id": "dALtP338ehv1",
        "outputId": "a51445fb-dac9-4a38-d08c-94ba483e167e"
      },
      "execution_count": 23,
      "outputs": [
        {
          "output_type": "display_data",
          "data": {
            "text/plain": [
              "<Figure size 1000x500 with 1 Axes>"
            ],
            "image/png": "[encoded data removed]"
          },
          "metadata": {}
        }
      ]
    }
  ]
}